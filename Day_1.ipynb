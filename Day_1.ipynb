{
  "nbformat": 4,
  "nbformat_minor": 0,
  "metadata": {
    "colab": {
      "name": "Day_1",
      "provenance": [],
      "authorship_tag": "ABX9TyOi+XzZaaKkLQZ44V0m0TAs",
      "include_colab_link": true
    },
    "kernelspec": {
      "name": "python3",
      "display_name": "Python 3"
    }
  },
  "cells": [
    {
      "cell_type": "markdown",
      "metadata": {
        "id": "view-in-github",
        "colab_type": "text"
      },
      "source": [
        "<a href=\"https://colab.research.google.com/github/Hrithik-johri/Internship_BEST-ENLIST-BOOTCAMP/blob/main/Day_1.ipynb\" target=\"_parent\"><img src=\"https://colab.research.google.com/assets/colab-badge.svg\" alt=\"Open In Colab\"/></a>"
      ]
    },
    {
      "cell_type": "markdown",
      "metadata": {
        "id": "GLWCD9dNopvr"
      },
      "source": [
        "## Best Enlist Python Intern\n",
        "\n",
        "### Day 1 \n",
        "\n",
        "#### Task : Create a string and slice fron 2nd value to last value "
      ]
    },
    {
      "cell_type": "code",
      "metadata": {
        "id": "n54XRTgBpJpF"
      },
      "source": [
        "name = \"Hrithik johri\""
      ],
      "execution_count": 4,
      "outputs": []
    },
    {
      "cell_type": "code",
      "metadata": {
        "colab": {
          "base_uri": "https://localhost:8080/",
          "height": 35
        },
        "id": "LiEaOzBxpPOh",
        "outputId": "1ae2ffa4-9435-4df8-97fe-6b780ec61d08"
      },
      "source": [
        "name"
      ],
      "execution_count": 5,
      "outputs": [
        {
          "output_type": "execute_result",
          "data": {
            "application/vnd.google.colaboratory.intrinsic+json": {
              "type": "string"
            },
            "text/plain": [
              "'Hrithik johri'"
            ]
          },
          "metadata": {
            "tags": []
          },
          "execution_count": 5
        }
      ]
    },
    {
      "cell_type": "code",
      "metadata": {
        "colab": {
          "base_uri": "https://localhost:8080/"
        },
        "id": "urEZP4_ypbQv",
        "outputId": "8cbcf58f-cab1-4a60-c21d-07523713ff22"
      },
      "source": [
        "print(name[1:])"
      ],
      "execution_count": 6,
      "outputs": [
        {
          "output_type": "stream",
          "text": [
            "rithik johri\n"
          ],
          "name": "stdout"
        }
      ]
    },
    {
      "cell_type": "code",
      "metadata": {
        "id": "Te6BzDpcp1MV"
      },
      "source": [
        ""
      ],
      "execution_count": null,
      "outputs": []
    }
  ]
}